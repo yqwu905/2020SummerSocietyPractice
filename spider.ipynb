{
 "cells": [
  {
   "cell_type": "markdown",
   "metadata": {},
   "source": [
    "导入包"
   ]
  },
  {
   "cell_type": "code",
   "execution_count": 1,
   "metadata": {},
   "outputs": [],
   "source": [
    "import requests\n",
    "import json\n",
    "from bs4 import BeautifulSoup\n",
    "import time\n",
    "import warnings"
   ]
  },
  {
   "cell_type": "markdown",
   "metadata": {},
   "source": [
    "设置(UA,地点,距离),并忽略警告(来自beautifulfoup)"
   ]
  },
  {
   "cell_type": "code",
   "execution_count": 2,
   "metadata": {},
   "outputs": [],
   "source": [
    "warnings.filterwarnings('ignore')\n",
    "headers = {'User-Agent': 'Mozilla/5.0 (Windows NT 6.1; WOW64) AppleWebKit/537.36 (KHTML, like Gecko) Chrome/50.0.2661.102 Safari/537.36', \n",
    "             'Connection': 'keep-alive'}\n",
    "long1 = 117.224817\n",
    "latitude1 = 31.825842\n",
    "distance1 = 6\n",
    "num1 = 1596451211625\n",
    "long = 117.235447\n",
    "latitude = 31.82687\n",
    "distance = 10\n",
    "num = 1597242864313"
   ]
  },
  {
   "cell_type": "markdown",
   "metadata": {},
   "source": [
    "~~获取代理(**已弃用**)~~"
   ]
  },
  {
   "cell_type": "code",
   "execution_count": 3,
   "metadata": {},
   "outputs": [],
   "source": [
    "def getProxy():\n",
    "    url = 'http://127.0.0.1:59977/getip?price=0&word=&count=10&type=json&detail=true'\n",
    "    r = requests.get(url)\n",
    "    proxys = json.loads(r.text)\n",
    "    proxyList = []\n",
    "    for i in proxys:\n",
    "        print(\"IP:{}\\tPort:{}\\tOut IP:{}\\tArea:{}\".format(i['ip'], i['port'], i['out_ip'], i['area_text']))\n",
    "        proxyList.append({'http':'http://{}:{}'.format(i['ip'], i['port'])})\n",
    "    return proxyList"
   ]
  },
  {
   "cell_type": "markdown",
   "metadata": {},
   "source": [
    "加载cookie(由Chrome插件EditThisCookie导出为json格式)"
   ]
  },
  {
   "cell_type": "code",
   "execution_count": 4,
   "metadata": {},
   "outputs": [],
   "source": [
    "def loadCookie(fileName):\n",
    "    cookie = requests.cookies.RequestsCookieJar()\n",
    "    with open(fileName, 'r') as fp:\n",
    "        data = json.load(fp)\n",
    "    for i in data:\n",
    "        cookie.set(i['name'], i['value'], domain=i['domain'], path=i['path'])\n",
    "    return cookie"
   ]
  },
  {
   "cell_type": "markdown",
   "metadata": {},
   "source": [
    "从天眼查获取一定区域内的公司信息(参数从网页请求参数中获取)"
   ]
  },
  {
   "cell_type": "code",
   "execution_count": 16,
   "metadata": {},
   "outputs": [],
   "source": [
    "def getAllCompany(longtitude, latitude, distance, num, status = None):\n",
    "    global cookie\n",
    "    companyNum = 0\n",
    "    result = []\n",
    "    with open('{}-{}-{}-{}'.format(longtitude, latitude, distance, num), 'w') as fp:\n",
    "        count = 0\n",
    "        for page in range(1, 251):\n",
    "            if status == None:\n",
    "                url = 'https://www.tianyancha.com/map/getListByPoint.html?pageNum={}&longtitude={}&latitude={}&distance={}&_={}'.format(page, longtitude, latitude, distance, num)\n",
    "            else:\n",
    "                url = 'https://www.tianyancha.com/map/getListByPoint.html?pageNum={}&longtitude={}&latitude={}&distance={}&regStatus={}&_={}'.format(page, longtitude, latitude, distance, status, num)\n",
    "            while count < 5:\n",
    "                try:\n",
    "                    r = requests.get(url, cookies = cookie, headers = headers)\n",
    "                    count = 0\n",
    "                    break\n",
    "                except:\n",
    "                    print('Retry: {}/5'.format(count))\n",
    "                    count += 1\n",
    "            if count == 5:\n",
    "                raise(Exception, \"failed to connect\")\n",
    "            soup = BeautifulSoup(r.text, 'html.parser')\n",
    "            tags = soup.find_all('td')\n",
    "            value = []\n",
    "            count = 0\n",
    "            for j in tags:\n",
    "                count += 1\n",
    "                value.append(j.string)\n",
    "                if count%8 == 0:\n",
    "                    #print(allCount, value)\n",
    "                    result.append({'name':value[1], 'regCurrent':value[3], 'regDate':value[4],\\\n",
    "                                   'type':value[6], 'status':value[7]})\n",
    "                    value = []\n",
    "            print('{}/250\\tget {} company'.format(page, len(result) - companyNum))\n",
    "            companyNum = len(result)\n",
    "        json.dump(result, fp)"
   ]
  },
  {
   "cell_type": "markdown",
   "metadata": {},
   "source": [
    "~~处理爬取的公司信息(适配于getAllCompany)(**已整合进getAllCompany**)~~"
   ]
  },
  {
   "cell_type": "code",
   "execution_count": 6,
   "metadata": {},
   "outputs": [],
   "source": [
    "def processHTML(fileName):\n",
    "    with open(fileName, 'r') as fp:\n",
    "        allHTML = fp.read()\n",
    "    HTMLList = allHTML.split('**********')\n",
    "    allCount = 0\n",
    "    result = []\n",
    "    for i in HTMLList:\n",
    "        soup = BeautifulSoup(i, 'html.parser')\n",
    "        tags = soup.find_all('td')\n",
    "        value = []\n",
    "        count = 0\n",
    "        for j in tags:\n",
    "            count += 1\n",
    "            value.append(j.string)\n",
    "            if count%8 == 0:\n",
    "                allCount += 1\n",
    "                #print(allCount, value)\n",
    "                result.append({'name':value[1], 'regCurrent':value[3], 'regDate':value[4],\\\n",
    "                               'type':value[6], 'status':value[7]})\n",
    "                value = []\n",
    "    return result"
   ]
  },
  {
   "cell_type": "markdown",
   "metadata": {},
   "source": [
    "~~天眼查版查询具体公司注销信息(**已弃用**)~~"
   ]
  },
  {
   "cell_type": "code",
   "execution_count": 7,
   "metadata": {},
   "outputs": [],
   "source": [
    "def getCompanyByName(name):\n",
    "    global cookie#, proxyList\n",
    "    #proxy = proxyList[randint(0, len(proxyList) - 1)]\n",
    "    url = 'https://www.tianyancha.com/search?key={}'.format(name)\n",
    "    r = requests.get(url, cookies = cookie) #proxies = proxy)\n",
    "    soup = BeautifulSoup(r.text, 'html.parser')\n",
    "    tags = soup.find_all('a')\n",
    "    for i in tags:\n",
    "        #print(i.string)\n",
    "        if i.string == name:\n",
    "            #print('find')\n",
    "            print(i.get('href'))\n",
    "            url = i.get('href')\n",
    "            break\n",
    "    r = requests.get(url, cookies = cookie)#, proxies = proxy)\n",
    "    print(r.text)\n",
    "    soup = BeautifulSoup(r.text, 'html.parser')\n",
    "    tags = soup.find_all('span')#, class_ = 'sec-c3')\n",
    "    for i in tags:\n",
    "        print(i)"
   ]
  },
  {
   "cell_type": "markdown",
   "metadata": {},
   "source": [
    "企查查版查询具体公司注销信息"
   ]
  },
  {
   "cell_type": "code",
   "execution_count": 8,
   "metadata": {},
   "outputs": [],
   "source": [
    "def getQCCCompanyByName(name):\n",
    "    global qccCookie\n",
    "    url = 'http://www.qcc.com/search?key={}'.format(name)\n",
    "    r = requests.get(url, cookies = qccCookie, headers = headers)\n",
    "    soup = BeautifulSoup(r.text, 'html.parser')\n",
    "    tags = soup.find_all('a')\n",
    "    flag = False\n",
    "    for i in tags:\n",
    "        if i.get('href') != None:\n",
    "            if '/firm/' in i.get('href') and '.shtml' in i.get('href'):\n",
    "                url = 'https://www.qcc.com' + i.get('href')\n",
    "                print('Find most closet result: {}'.format(url))\n",
    "                flag = True\n",
    "    if flag:\n",
    "        r = requests.get(url, cookies = qccCookie, headers = headers)\n",
    "        soup = BeautifulSoup(r.text)\n",
    "        res = soup.find_all('span', class_ = 'ntag text-danger tooltip-br')\n",
    "        print(res)\n",
    "        res = res[0]\n",
    "        spanTitle = BeautifulSoup(res.get('title'))\n",
    "        res = spanTitle.find_all('span')\n",
    "        data = {'date':'', 'reason':''}\n",
    "        data['date'] = res[0].string[5:]\n",
    "        data['reason'] = res[1].string[5:]\n",
    "        return True, data\n",
    "    else:\n",
    "        return False, None"
   ]
  },
  {
   "cell_type": "markdown",
   "metadata": {},
   "source": [
    "~~测试IP(随getProxy弃用)~~"
   ]
  },
  {
   "cell_type": "code",
   "execution_count": 9,
   "metadata": {},
   "outputs": [],
   "source": [
    "def ipTest():\n",
    "    global proxyList\n",
    "    for proxy in proxyList:\n",
    "        print(proxy)\n",
    "        r = requests.get('http://icanhazip.com', headers = headers, proxies = proxy)\n",
    "        print(r.text)"
   ]
  },
  {
   "cell_type": "markdown",
   "metadata": {},
   "source": [
    "分析注销公司"
   ]
  },
  {
   "cell_type": "code",
   "execution_count": 10,
   "metadata": {},
   "outputs": [],
   "source": [
    "def resultAnalyze(result):\n",
    "    companyNum = 0\n",
    "    notExistNum = 0\n",
    "    typeNotExistCompany = {}\n",
    "    typeCompany = {}\n",
    "    for i in result:\n",
    "        if i['status'] != '-':\n",
    "            companyNum += 1\n",
    "            if i['type'] not in typeCompany.keys():\n",
    "                typeCompany[i['type']] = 1\n",
    "            else:\n",
    "                typeCompany[i['type']] += 1\n",
    "            if i['status'] != '存续':\n",
    "                notExistNum += 1\n",
    "                if i['type'] not in typeNotExistCompany.keys():\n",
    "                    typeNotExistCompany[i['type']] = 1\n",
    "                else:\n",
    "                    typeNotExistCompany[i['type']] += 1\n",
    "                print(\"{}-{}-{}-{}-{}\".format(i['name'], i['regCurrent'], i['regDate'], i['type'], i['status']))\n",
    "    print(\"Not exist rate: {}({}/{})\".format(notExistNum/companyNum, notExistNum, companyNum))\n",
    "    print(typeNotExistCompany)\n",
    "    print(typeCompany)"
   ]
  },
  {
   "cell_type": "code",
   "execution_count": 19,
   "metadata": {},
   "outputs": [],
   "source": [
    "cookie = loadCookie('./cookie')"
   ]
  }
 ],
 "metadata": {
  "kernelspec": {
   "display_name": "Python 3",
   "language": "python",
   "name": "python3"
  },
  "language_info": {
   "codemirror_mode": {
    "name": "ipython",
    "version": 3
   },
   "file_extension": ".py",
   "mimetype": "text/x-python",
   "name": "python",
   "nbconvert_exporter": "python",
   "pygments_lexer": "ipython3",
   "version": "3.8.5"
  }
 },
 "nbformat": 4,
 "nbformat_minor": 4
}
